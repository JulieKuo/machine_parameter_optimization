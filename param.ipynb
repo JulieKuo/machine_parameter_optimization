{
 "cells": [
  {
   "attachments": {},
   "cell_type": "markdown",
   "metadata": {},
   "source": [
    "### Parser"
   ]
  },
  {
   "cell_type": "code",
   "execution_count": 1,
   "metadata": {},
   "outputs": [
    {
     "name": "stdout",
     "output_type": "stream",
     "text": [
      "eyJaSVBfTkFNRSI6ICJ4eHh4LnppcCIsICJURU1QX1BBVEgiOiAiYzpcXFVzZXJzXFx0enVsaVxcRG9jdW1lbnRzXFxweXRob25cXGxvbmdfY2hlbmdcXGRhdGFcXHRlbXAiLCAiQ0xFQU5fUEFUSCI6ICJjOlxcVXNlcnNcXHR6dWxpXFxEb2N1bWVudHNcXHB5dGhvblxcbG9uZ19jaGVuZ1xcZGF0YVxcY2xlYW4iLCAiSU5JVF9QQVRIIjogImM6XFxVc2Vyc1xcdHp1bGlcXERvY3VtZW50c1xccHl0aG9uXFxsb25nX2NoZW5nXFxkYXRhXFxpbml0IiwgIkRBVEFfSU5GTyI6ICJjOlxcVXNlcnNcXHR6dWxpXFxEb2N1bWVudHNcXHB5dGhvblxcbG9uZ19jaGVuZ1xcZGF0YVxcZGF0YS5qc29uIiwgIkxPR19QQVRIIjogImM6XFxVc2Vyc1xcdHp1bGlcXERvY3VtZW50c1xccHl0aG9uXFxsb25nX2NoZW5nXFxwcm9nL2xvZ3MvcGFyc2VyLmxvZyJ9\n"
     ]
    }
   ],
   "source": [
    "import json, base64, os\n",
    "root = os.getcwd()\n",
    "s = {\n",
    "   \"ZIP_NAME\": \"xxxx.zip\",\n",
    "   \"TEMP_PATH\": os.path.join(root, \"data\\\\temp\"),\n",
    "   \"CLEAN_PATH\": os.path.join(root, \"data\\\\clean\"),\n",
    "   \"INIT_PATH\": os.path.join(root, \"data\\\\init\"),\n",
    "   \"DATA_INFO\":  os.path.join(root, \"data\\\\data.json\"),\n",
    "   \"LOG_PATH\": os.path.join(root, \"prog/logs/parser.log\"),\n",
    "}\n",
    "s = json.dumps(s)\n",
    "\n",
    "b = s.encode(\"UTF-8\")\n",
    "e = base64.b64encode(b)\n",
    "s1 = e.decode(\"UTF-8\")\n",
    "print(s1)"
   ]
  },
  {
   "cell_type": "code",
   "execution_count": 2,
   "metadata": {},
   "outputs": [
    {
     "name": "stdout",
     "output_type": "stream",
     "text": [
      "python run.py \"parser\" eyJaSVBfTkFNRSI6ICJ4eHh4LnppcCIsICJURU1QX1BBVEgiOiAiYzpcXFVzZXJzXFx0enVsaVxcRG9jdW1lbnRzXFxweXRob25cXGxvbmdfY2hlbmdcXGRhdGFcXHRlbXAiLCAiQ0xFQU5fUEFUSCI6ICJjOlxcVXNlcnNcXHR6dWxpXFxEb2N1bWVudHNcXHB5dGhvblxcbG9uZ19jaGVuZ1xcZGF0YVxcY2xlYW4iLCAiSU5JVF9QQVRIIjogImM6XFxVc2Vyc1xcdHp1bGlcXERvY3VtZW50c1xccHl0aG9uXFxsb25nX2NoZW5nXFxkYXRhXFxpbml0IiwgIkRBVEFfSU5GTyI6ICJjOlxcVXNlcnNcXHR6dWxpXFxEb2N1bWVudHNcXHB5dGhvblxcbG9uZ19jaGVuZ1xcZGF0YVxcZGF0YS5qc29uIiwgIkxPR19QQVRIIjogImM6XFxVc2Vyc1xcdHp1bGlcXERvY3VtZW50c1xccHl0aG9uXFxsb25nX2NoZW5nXFxwcm9nL2xvZ3MvcGFyc2VyLmxvZyJ9\n"
     ]
    }
   ],
   "source": [
    "# python \n",
    "print(f'python run.py \"parser\" {s1}')"
   ]
  },
  {
   "cell_type": "code",
   "execution_count": 3,
   "metadata": {},
   "outputs": [
    {
     "name": "stdout",
     "output_type": "stream",
     "text": [
      "prog/run/run.exe \"parser\" eyJaSVBfTkFNRSI6ICJ4eHh4LnppcCIsICJURU1QX1BBVEgiOiAiYzpcXFVzZXJzXFx0enVsaVxcRG9jdW1lbnRzXFxweXRob25cXGxvbmdfY2hlbmdcXGRhdGFcXHRlbXAiLCAiQ0xFQU5fUEFUSCI6ICJjOlxcVXNlcnNcXHR6dWxpXFxEb2N1bWVudHNcXHB5dGhvblxcbG9uZ19jaGVuZ1xcZGF0YVxcY2xlYW4iLCAiSU5JVF9QQVRIIjogImM6XFxVc2Vyc1xcdHp1bGlcXERvY3VtZW50c1xccHl0aG9uXFxsb25nX2NoZW5nXFxkYXRhXFxpbml0IiwgIkRBVEFfSU5GTyI6ICJjOlxcVXNlcnNcXHR6dWxpXFxEb2N1bWVudHNcXHB5dGhvblxcbG9uZ19jaGVuZ1xcZGF0YVxcZGF0YS5qc29uIiwgIkxPR19QQVRIIjogImM6XFxVc2Vyc1xcdHp1bGlcXERvY3VtZW50c1xccHl0aG9uXFxsb25nX2NoZW5nXFxwcm9nL2xvZ3MvcGFyc2VyLmxvZyJ9\n"
     ]
    }
   ],
   "source": [
    "# exe \n",
    "print(f'prog/run/run.exe \"parser\" {s1}')"
   ]
  },
  {
   "cell_type": "code",
   "execution_count": 4,
   "metadata": {},
   "outputs": [
    {
     "name": "stdout",
     "output_type": "stream",
     "text": [
      "prog/parser.bat eyJaSVBfTkFNRSI6ICJ4eHh4LnppcCIsICJURU1QX1BBVEgiOiAiYzpcXFVzZXJzXFx0enVsaVxcRG9jdW1lbnRzXFxweXRob25cXGxvbmdfY2hlbmdcXGRhdGFcXHRlbXAiLCAiQ0xFQU5fUEFUSCI6ICJjOlxcVXNlcnNcXHR6dWxpXFxEb2N1bWVudHNcXHB5dGhvblxcbG9uZ19jaGVuZ1xcZGF0YVxcY2xlYW4iLCAiSU5JVF9QQVRIIjogImM6XFxVc2Vyc1xcdHp1bGlcXERvY3VtZW50c1xccHl0aG9uXFxsb25nX2NoZW5nXFxkYXRhXFxpbml0IiwgIkRBVEFfSU5GTyI6ICJjOlxcVXNlcnNcXHR6dWxpXFxEb2N1bWVudHNcXHB5dGhvblxcbG9uZ19jaGVuZ1xcZGF0YVxcZGF0YS5qc29uIiwgIkxPR19QQVRIIjogImM6XFxVc2Vyc1xcdHp1bGlcXERvY3VtZW50c1xccHl0aG9uXFxsb25nX2NoZW5nXFxwcm9nL2xvZ3MvcGFyc2VyLmxvZyJ9\n"
     ]
    }
   ],
   "source": [
    "# bat \n",
    "print(f'prog/parser.bat {s1}')"
   ]
  },
  {
   "attachments": {},
   "cell_type": "markdown",
   "metadata": {},
   "source": [
    "### Train"
   ]
  },
  {
   "cell_type": "code",
   "execution_count": 5,
   "metadata": {},
   "outputs": [
    {
     "name": "stdout",
     "output_type": "stream",
     "text": [
      "eyJTVEFSVF9EQVRFIjogIjIwMjItMDUtMjUiLCAiRU5EX0RBVEUiOiAiMjAyMy0wNi0wOSIsICJJTklUX1BBVEgiOiAiYzpcXFVzZXJzXFx0enVsaVxcRG9jdW1lbnRzXFxweXRob25cXGxvbmdfY2hlbmdcXGRhdGFcXGluaXQiLCAiVFJBSU5fTE9HIjogImM6XFxVc2Vyc1xcdHp1bGlcXERvY3VtZW50c1xccHl0aG9uXFxsb25nX2NoZW5nXFxwcm9nXFxsb2dzXFx0cmFpbi5sb2ciLCAiTU9ERUxfUEFUSCI6ICJjOlxcVXNlcnNcXHR6dWxpXFxEb2N1bWVudHNcXHB5dGhvblxcbG9uZ19jaGVuZ1xcZGF0YVxcbW9kZWxzXFwyMDIzMDYwOTE0NTM0NCJ9\n"
     ]
    }
   ],
   "source": [
    "import json, base64, os\n",
    "from datetime import datetime\n",
    "time = datetime.now().strftime(\"%Y%m%d%H%M%S\")\n",
    "root = os.getcwd()\n",
    "s = {\n",
    "        \"START_DATE\": \"2022-05-25\",\n",
    "        \"END_DATE\": datetime.today().strftime(\"%Y-%m-%d\"),\n",
    "        \"INIT_PATH\": os.path.join(root, \"data\\\\init\"),\n",
    "        \"TRAIN_LOG\": os.path.join(root, \"prog\\\\logs\\\\train.log\"),\n",
    "        \"MODEL_PATH\":  os.path.join(root, f\"data\\\\models\\\\{time}\"),\n",
    "}\n",
    "s = json.dumps(s)\n",
    "\n",
    "b = s.encode(\"UTF-8\")\n",
    "e = base64.b64encode(b)\n",
    "s1 = e.decode(\"UTF-8\")\n",
    "print(s1)"
   ]
  },
  {
   "cell_type": "code",
   "execution_count": 6,
   "metadata": {},
   "outputs": [
    {
     "name": "stdout",
     "output_type": "stream",
     "text": [
      "python run.py \"train\" eyJTVEFSVF9EQVRFIjogIjIwMjItMDUtMjUiLCAiRU5EX0RBVEUiOiAiMjAyMy0wNi0wOSIsICJJTklUX1BBVEgiOiAiYzpcXFVzZXJzXFx0enVsaVxcRG9jdW1lbnRzXFxweXRob25cXGxvbmdfY2hlbmdcXGRhdGFcXGluaXQiLCAiVFJBSU5fTE9HIjogImM6XFxVc2Vyc1xcdHp1bGlcXERvY3VtZW50c1xccHl0aG9uXFxsb25nX2NoZW5nXFxwcm9nXFxsb2dzXFx0cmFpbi5sb2ciLCAiTU9ERUxfUEFUSCI6ICJjOlxcVXNlcnNcXHR6dWxpXFxEb2N1bWVudHNcXHB5dGhvblxcbG9uZ19jaGVuZ1xcZGF0YVxcbW9kZWxzXFwyMDIzMDYwOTE0NTM0NCJ9\n"
     ]
    }
   ],
   "source": [
    "# python \n",
    "print(f'python run.py \"train\" {s1}')"
   ]
  },
  {
   "cell_type": "code",
   "execution_count": 7,
   "metadata": {},
   "outputs": [
    {
     "name": "stdout",
     "output_type": "stream",
     "text": [
      "prog/run/run.exe \"train\" eyJTVEFSVF9EQVRFIjogIjIwMjItMDUtMjUiLCAiRU5EX0RBVEUiOiAiMjAyMy0wNi0wOSIsICJJTklUX1BBVEgiOiAiYzpcXFVzZXJzXFx0enVsaVxcRG9jdW1lbnRzXFxweXRob25cXGxvbmdfY2hlbmdcXGRhdGFcXGluaXQiLCAiVFJBSU5fTE9HIjogImM6XFxVc2Vyc1xcdHp1bGlcXERvY3VtZW50c1xccHl0aG9uXFxsb25nX2NoZW5nXFxwcm9nXFxsb2dzXFx0cmFpbi5sb2ciLCAiTU9ERUxfUEFUSCI6ICJjOlxcVXNlcnNcXHR6dWxpXFxEb2N1bWVudHNcXHB5dGhvblxcbG9uZ19jaGVuZ1xcZGF0YVxcbW9kZWxzXFwyMDIzMDYwOTE0NTM0NCJ9\n"
     ]
    }
   ],
   "source": [
    "# exe \n",
    "print(f'prog/run/run.exe \"train\" {s1}')"
   ]
  },
  {
   "cell_type": "code",
   "execution_count": 8,
   "metadata": {},
   "outputs": [
    {
     "name": "stdout",
     "output_type": "stream",
     "text": [
      "prog/train.bat eyJTVEFSVF9EQVRFIjogIjIwMjItMDUtMjUiLCAiRU5EX0RBVEUiOiAiMjAyMy0wNi0wOSIsICJJTklUX1BBVEgiOiAiYzpcXFVzZXJzXFx0enVsaVxcRG9jdW1lbnRzXFxweXRob25cXGxvbmdfY2hlbmdcXGRhdGFcXGluaXQiLCAiVFJBSU5fTE9HIjogImM6XFxVc2Vyc1xcdHp1bGlcXERvY3VtZW50c1xccHl0aG9uXFxsb25nX2NoZW5nXFxwcm9nXFxsb2dzXFx0cmFpbi5sb2ciLCAiTU9ERUxfUEFUSCI6ICJjOlxcVXNlcnNcXHR6dWxpXFxEb2N1bWVudHNcXHB5dGhvblxcbG9uZ19jaGVuZ1xcZGF0YVxcbW9kZWxzXFwyMDIzMDYwOTE0NTM0NCJ9\n"
     ]
    }
   ],
   "source": [
    "# bat \n",
    "print(f'prog/train.bat {s1}')"
   ]
  },
  {
   "attachments": {},
   "cell_type": "markdown",
   "metadata": {},
   "source": [
    "### Predict"
   ]
  },
  {
   "cell_type": "code",
   "execution_count": 9,
   "metadata": {},
   "outputs": [
    {
     "name": "stdout",
     "output_type": "stream",
     "text": [
      "eyJJTlBVVCI6ICJjOlxcVXNlcnNcXHR6dWxpXFxEb2N1bWVudHNcXHB5dGhvblxcbG9uZ19jaGVuZ1xcZGF0YVxccHJlZGljdGlvbnNcXDIwMjMwNjA5MTQ1MzQ0XFxpbnB1dC5qc29uIiwgIk1PREVMIjogImM6XFxVc2Vyc1xcdHp1bGlcXERvY3VtZW50c1xccHl0aG9uXFxsb25nX2NoZW5nXFxkYXRhXFxtb2RlbHNcXDIwMjMwNjA5MTQzMDU1IiwgIk9VVFBVVCI6ICJjOlxcVXNlcnNcXHR6dWxpXFxEb2N1bWVudHNcXHB5dGhvblxcbG9uZ19jaGVuZ1xcZGF0YVxccHJlZGljdGlvbnNcXDIwMjMwNjA5MTQ1MzQ0XFxvdXRwdXQuanNvbiIsICJMT0ciOiAiYzpcXFVzZXJzXFx0enVsaVxcRG9jdW1lbnRzXFxweXRob25cXGxvbmdfY2hlbmdcXHByb2cvbG9ncy9wcmVkaWN0LmxvZyJ9\n"
     ]
    }
   ],
   "source": [
    "import os, json, base64, random\n",
    "import pandas as pd\n",
    "from datetime import datetime\n",
    "\n",
    "root = os.getcwd()\n",
    "models = os.listdir(os.path.join(root, \"data\", \"models\"))\n",
    "model_time = sorted(models)[-1]\n",
    "model_path = os.path.join(root, \"data\", \"models\", str(model_time))\n",
    "\n",
    "time = datetime.now().strftime(\"%Y%m%d%H%M%S\")\n",
    "predict_path = os.path.join(root, \"data\", \"predictions\", time)\n",
    "if not os.path.isdir(predict_path):\n",
    "    os.makedirs(predict_path)\n",
    "\n",
    "# input X\n",
    "\n",
    "target = \"Hourly_Production\"\n",
    "\n",
    "# 輸入參數\n",
    "df0 = pd.read_csv(os.path.join(root, \"data\", \"data.csv\"))\n",
    "features = df0.columns[5:].to_list()\n",
    "df_lower40 = df0[(df0[target] < 40)][target]\n",
    "ind = random.choice(df_lower40.index)\n",
    "output = df0.loc[ind, target]\n",
    "X0 = df0.iloc[ind: ind+1][features]\n",
    "\n",
    "# 指定不可調動的參數\n",
    "fixed_mask = [random.randint(0, 1) for i in range(len(features))]\n",
    "\n",
    "# 轉為實際輸入的input格式\n",
    "input_data = {X0.columns[i]: {\"init\": X0.values[0][i], \"fixed\": random.randint(0, 1)} for i in range(X0.shape[1])}\n",
    "input_data[target]= {\"init\": 46.3}\n",
    "\n",
    "with open(f'{predict_path}\\\\input.json', 'w') as f:\n",
    "    json.dump(input_data, f)\n",
    "\n",
    "s = {\n",
    "    \"INPUT\": os.path.join(predict_path, \"input.json\"),\n",
    "    \"MODEL\": model_path,\n",
    "    \"OUTPUT\": os.path.join(predict_path, \"output.json\"),\n",
    "    \"LOG\": os.path.join(root, \"prog/logs/predict.log\"),\n",
    "}\n",
    "\n",
    "s0 = json.dumps(s)\n",
    "\n",
    "b = s0.encode(\"UTF-8\")\n",
    "e = base64.b64encode(b)\n",
    "s1 = e.decode(\"UTF-8\")\n",
    "print(s1)"
   ]
  },
  {
   "cell_type": "code",
   "execution_count": 10,
   "metadata": {},
   "outputs": [
    {
     "name": "stdout",
     "output_type": "stream",
     "text": [
      "python run.py \"predict\" eyJJTlBVVCI6ICJjOlxcVXNlcnNcXHR6dWxpXFxEb2N1bWVudHNcXHB5dGhvblxcbG9uZ19jaGVuZ1xcZGF0YVxccHJlZGljdGlvbnNcXDIwMjMwNjA5MTQ1MzQ0XFxpbnB1dC5qc29uIiwgIk1PREVMIjogImM6XFxVc2Vyc1xcdHp1bGlcXERvY3VtZW50c1xccHl0aG9uXFxsb25nX2NoZW5nXFxkYXRhXFxtb2RlbHNcXDIwMjMwNjA5MTQzMDU1IiwgIk9VVFBVVCI6ICJjOlxcVXNlcnNcXHR6dWxpXFxEb2N1bWVudHNcXHB5dGhvblxcbG9uZ19jaGVuZ1xcZGF0YVxccHJlZGljdGlvbnNcXDIwMjMwNjA5MTQ1MzQ0XFxvdXRwdXQuanNvbiIsICJMT0ciOiAiYzpcXFVzZXJzXFx0enVsaVxcRG9jdW1lbnRzXFxweXRob25cXGxvbmdfY2hlbmdcXHByb2cvbG9ncy9wcmVkaWN0LmxvZyJ9\n"
     ]
    }
   ],
   "source": [
    "# python \n",
    "print(f'python run.py \"predict\" {s1}')"
   ]
  },
  {
   "cell_type": "code",
   "execution_count": 11,
   "metadata": {},
   "outputs": [
    {
     "name": "stdout",
     "output_type": "stream",
     "text": [
      "prog/run/run.exe \"predict\" eyJJTlBVVCI6ICJjOlxcVXNlcnNcXHR6dWxpXFxEb2N1bWVudHNcXHB5dGhvblxcbG9uZ19jaGVuZ1xcZGF0YVxccHJlZGljdGlvbnNcXDIwMjMwNjA5MTQ1MzQ0XFxpbnB1dC5qc29uIiwgIk1PREVMIjogImM6XFxVc2Vyc1xcdHp1bGlcXERvY3VtZW50c1xccHl0aG9uXFxsb25nX2NoZW5nXFxkYXRhXFxtb2RlbHNcXDIwMjMwNjA5MTQzMDU1IiwgIk9VVFBVVCI6ICJjOlxcVXNlcnNcXHR6dWxpXFxEb2N1bWVudHNcXHB5dGhvblxcbG9uZ19jaGVuZ1xcZGF0YVxccHJlZGljdGlvbnNcXDIwMjMwNjA5MTQ1MzQ0XFxvdXRwdXQuanNvbiIsICJMT0ciOiAiYzpcXFVzZXJzXFx0enVsaVxcRG9jdW1lbnRzXFxweXRob25cXGxvbmdfY2hlbmdcXHByb2cvbG9ncy9wcmVkaWN0LmxvZyJ9\n"
     ]
    }
   ],
   "source": [
    "# exe \n",
    "print(f'prog/run/run.exe \"predict\" {s1}')"
   ]
  },
  {
   "cell_type": "code",
   "execution_count": 12,
   "metadata": {},
   "outputs": [
    {
     "name": "stdout",
     "output_type": "stream",
     "text": [
      "prog/predict.bat eyJJTlBVVCI6ICJjOlxcVXNlcnNcXHR6dWxpXFxEb2N1bWVudHNcXHB5dGhvblxcbG9uZ19jaGVuZ1xcZGF0YVxccHJlZGljdGlvbnNcXDIwMjMwNjA5MTQ1MzQ0XFxpbnB1dC5qc29uIiwgIk1PREVMIjogImM6XFxVc2Vyc1xcdHp1bGlcXERvY3VtZW50c1xccHl0aG9uXFxsb25nX2NoZW5nXFxkYXRhXFxtb2RlbHNcXDIwMjMwNjA5MTQzMDU1IiwgIk9VVFBVVCI6ICJjOlxcVXNlcnNcXHR6dWxpXFxEb2N1bWVudHNcXHB5dGhvblxcbG9uZ19jaGVuZ1xcZGF0YVxccHJlZGljdGlvbnNcXDIwMjMwNjA5MTQ1MzQ0XFxvdXRwdXQuanNvbiIsICJMT0ciOiAiYzpcXFVzZXJzXFx0enVsaVxcRG9jdW1lbnRzXFxweXRob25cXGxvbmdfY2hlbmdcXHByb2cvbG9ncy9wcmVkaWN0LmxvZyJ9\n"
     ]
    }
   ],
   "source": [
    "# bat \n",
    "print(f\"prog/predict.bat {s1}\")"
   ]
  },
  {
   "cell_type": "code",
   "execution_count": null,
   "metadata": {},
   "outputs": [],
   "source": []
  }
 ],
 "metadata": {
  "kernelspec": {
   "display_name": "Python 3.8.7 ('.venv': venv)",
   "language": "python",
   "name": "python3"
  },
  "language_info": {
   "codemirror_mode": {
    "name": "ipython",
    "version": 3
   },
   "file_extension": ".py",
   "mimetype": "text/x-python",
   "name": "python",
   "nbconvert_exporter": "python",
   "pygments_lexer": "ipython3",
   "version": "3.8.10"
  },
  "orig_nbformat": 4,
  "vscode": {
   "interpreter": {
    "hash": "6a07fcf0145f94b3f971c13d061528107de20ab7b779375f96dab9bbac6a85db"
   }
  }
 },
 "nbformat": 4,
 "nbformat_minor": 2
}
