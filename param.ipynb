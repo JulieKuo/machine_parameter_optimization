{
 "cells": [
  {
   "cell_type": "markdown",
   "metadata": {},
   "source": [
    "### Parser"
   ]
  },
  {
   "cell_type": "code",
   "execution_count": 6,
   "metadata": {},
   "outputs": [
    {
     "name": "stdout",
     "output_type": "stream",
     "text": [
      "eyJaSVBfTkFNRSI6ICJ4eHh4LnppcCIsICJURU1QX1BBVEgiOiAiRDpcXEp1bGllXFxkZXZlbG9wXFxsb25nX2NoZW5nXFxkYXRhXFx0ZW1wIiwgIkNMRUFOX1BBVEgiOiAiRDpcXEp1bGllXFxkZXZlbG9wXFxsb25nX2NoZW5nXFxkYXRhXFxjbGVhbiIsICJJTklUX1BBVEgiOiAiRDpcXEp1bGllXFxkZXZlbG9wXFxsb25nX2NoZW5nXFxkYXRhXFxpbml0IiwgIkRBVEFfSU5GTyI6ICJEOlxcSnVsaWVcXGRldmVsb3BcXGxvbmdfY2hlbmdcXGRhdGFcXGRhdGEuanNvbiIsICJMT0dfUEFUSCI6ICJEOlxcSnVsaWVcXGRldmVsb3BcXGxvbmdfY2hlbmdcXHByb2dcXGxvZ3NcXHBhcnNlci5sb2cifQ==\n"
     ]
    }
   ],
   "source": [
    "import json, base64\n",
    "s = {\n",
    "   \"ZIP_NAME\": \"xxxx.zip\",\n",
    "   \"TEMP_PATH\": \"D:\\\\Julie\\\\develop\\\\long_cheng\\\\data\\\\temp\",\n",
    "   \"CLEAN_PATH\": \"D:\\\\Julie\\\\develop\\\\long_cheng\\\\data\\\\clean\",\n",
    "   \"INIT_PATH\": \"D:\\\\Julie\\\\develop\\\\long_cheng\\\\data\\\\init\",\n",
    "   \"DATA_INFO\":  \"D:\\\\Julie\\\\develop\\\\long_cheng\\\\data\\\\data.json\",\n",
    "   \"LOG_PATH\": \"D:\\\\Julie\\\\develop\\\\long_cheng\\\\prog\\\\logs\\\\parser.log\",\n",
    "}\n",
    "s = json.dumps(s)\n",
    "\n",
    "b = s.encode(\"UTF-8\")\n",
    "e = base64.b64encode(b)\n",
    "s1 = e.decode(\"UTF-8\")\n",
    "print(s1)"
   ]
  },
  {
   "cell_type": "code",
   "execution_count": 7,
   "metadata": {},
   "outputs": [
    {
     "name": "stdout",
     "output_type": "stream",
     "text": [
      "python run.py \"parser\" eyJaSVBfTkFNRSI6ICJ4eHh4LnppcCIsICJURU1QX1BBVEgiOiAiRDpcXEp1bGllXFxkZXZlbG9wXFxsb25nX2NoZW5nXFxkYXRhXFx0ZW1wIiwgIkNMRUFOX1BBVEgiOiAiRDpcXEp1bGllXFxkZXZlbG9wXFxsb25nX2NoZW5nXFxkYXRhXFxjbGVhbiIsICJJTklUX1BBVEgiOiAiRDpcXEp1bGllXFxkZXZlbG9wXFxsb25nX2NoZW5nXFxkYXRhXFxpbml0IiwgIkRBVEFfSU5GTyI6ICJEOlxcSnVsaWVcXGRldmVsb3BcXGxvbmdfY2hlbmdcXGRhdGFcXGRhdGEuanNvbiIsICJMT0dfUEFUSCI6ICJEOlxcSnVsaWVcXGRldmVsb3BcXGxvbmdfY2hlbmdcXHByb2dcXGxvZ3NcXHBhcnNlci5sb2cifQ==\n"
     ]
    }
   ],
   "source": [
    "# python \n",
    "print(f'python run.py \"parser\" {s1}')"
   ]
  },
  {
   "cell_type": "code",
   "execution_count": 8,
   "metadata": {},
   "outputs": [
    {
     "name": "stdout",
     "output_type": "stream",
     "text": [
      "prog/run/run.exe \"parser\" eyJaSVBfTkFNRSI6ICJ4eHh4LnppcCIsICJURU1QX1BBVEgiOiAiRDpcXEp1bGllXFxkZXZlbG9wXFxsb25nX2NoZW5nXFxkYXRhXFx0ZW1wIiwgIkNMRUFOX1BBVEgiOiAiRDpcXEp1bGllXFxkZXZlbG9wXFxsb25nX2NoZW5nXFxkYXRhXFxjbGVhbiIsICJJTklUX1BBVEgiOiAiRDpcXEp1bGllXFxkZXZlbG9wXFxsb25nX2NoZW5nXFxkYXRhXFxpbml0IiwgIkRBVEFfSU5GTyI6ICJEOlxcSnVsaWVcXGRldmVsb3BcXGxvbmdfY2hlbmdcXGRhdGFcXGRhdGEuanNvbiIsICJMT0dfUEFUSCI6ICJEOlxcSnVsaWVcXGRldmVsb3BcXGxvbmdfY2hlbmdcXHByb2dcXGxvZ3NcXHBhcnNlci5sb2cifQ==\n"
     ]
    }
   ],
   "source": [
    "# exe \n",
    "print(f'prog/run/run.exe \"parser\" {s1}')"
   ]
  },
  {
   "cell_type": "code",
   "execution_count": 9,
   "metadata": {},
   "outputs": [
    {
     "name": "stdout",
     "output_type": "stream",
     "text": [
      "prog/parser.bat eyJaSVBfTkFNRSI6ICJ4eHh4LnppcCIsICJURU1QX1BBVEgiOiAiRDpcXEp1bGllXFxkZXZlbG9wXFxsb25nX2NoZW5nXFxkYXRhXFx0ZW1wIiwgIkNMRUFOX1BBVEgiOiAiRDpcXEp1bGllXFxkZXZlbG9wXFxsb25nX2NoZW5nXFxkYXRhXFxjbGVhbiIsICJJTklUX1BBVEgiOiAiRDpcXEp1bGllXFxkZXZlbG9wXFxsb25nX2NoZW5nXFxkYXRhXFxpbml0IiwgIkRBVEFfSU5GTyI6ICJEOlxcSnVsaWVcXGRldmVsb3BcXGxvbmdfY2hlbmdcXGRhdGFcXGRhdGEuanNvbiIsICJMT0dfUEFUSCI6ICJEOlxcSnVsaWVcXGRldmVsb3BcXGxvbmdfY2hlbmdcXHByb2dcXGxvZ3NcXHBhcnNlci5sb2cifQ==\n"
     ]
    }
   ],
   "source": [
    "# bat \n",
    "print(f'prog/parser.bat {s1}')"
   ]
  },
  {
   "cell_type": "markdown",
   "metadata": {},
   "source": [
    "### Train"
   ]
  },
  {
   "cell_type": "code",
   "execution_count": 37,
   "metadata": {},
   "outputs": [
    {
     "name": "stdout",
     "output_type": "stream",
     "text": [
      "eyJTVEFSVF9EQVRFIjogIjIwMjItMDUtMjUiLCAiRU5EX0RBVEUiOiAiMjAyMi0wOS0yMiIsICJJTklUX1BBVEgiOiAiRDpcXEp1bGllXFxkZXZlbG9wXFxwYXBlclxcZGF0YVxcaW5pdCIsICJUUkFJTl9MT0ciOiAiRDpcXEp1bGllXFxkZXZlbG9wXFxwYXBlclxccHJvZ1xcbG9nc1xcdHJhaW4ubG9nIiwgIk1PREVMX1BBVEgiOiAiRDpcXEp1bGllXFxkZXZlbG9wXFxwYXBlclxcZGF0YVxcbW9kZWxzXFwxNjYzODI3NTY3LjQ1NzMyOCJ9\n"
     ]
    }
   ],
   "source": [
    "import json, base64\n",
    "from datetime import datetime\n",
    "s = {\n",
    "        \"START_DATE\": \"2022-05-25\",\n",
    "        \"END_DATE\": datetime.today().strftime(\"%Y-%m-%d\"),\n",
    "        \"INIT_PATH\": \"D:\\\\Julie\\\\develop\\\\long_cheng\\\\data\\\\init\",\n",
    "        \"TRAIN_LOG\": \"D:\\\\Julie\\\\develop\\\\long_cheng\\\\prog\\\\logs\\\\train.log\",\n",
    "        \"MODEL_PATH\":  f\"D:\\\\Julie\\\\develop\\\\long_cheng\\\\data\\\\models\\\\{datetime.timestamp(datetime.now())}\",\n",
    "}\n",
    "s = json.dumps(s)\n",
    "\n",
    "b = s.encode(\"UTF-8\")\n",
    "e = base64.b64encode(b)\n",
    "s1 = e.decode(\"UTF-8\")\n",
    "print(s1)"
   ]
  },
  {
   "cell_type": "code",
   "execution_count": 38,
   "metadata": {},
   "outputs": [
    {
     "name": "stdout",
     "output_type": "stream",
     "text": [
      "python run.py \"train\" eyJTVEFSVF9EQVRFIjogIjIwMjItMDUtMjUiLCAiRU5EX0RBVEUiOiAiMjAyMi0wOS0yMiIsICJJTklUX1BBVEgiOiAiRDpcXEp1bGllXFxkZXZlbG9wXFxwYXBlclxcZGF0YVxcaW5pdCIsICJUUkFJTl9MT0ciOiAiRDpcXEp1bGllXFxkZXZlbG9wXFxwYXBlclxccHJvZ1xcbG9nc1xcdHJhaW4ubG9nIiwgIk1PREVMX1BBVEgiOiAiRDpcXEp1bGllXFxkZXZlbG9wXFxwYXBlclxcZGF0YVxcbW9kZWxzXFwxNjYzODI3NTY3LjQ1NzMyOCJ9\n"
     ]
    }
   ],
   "source": [
    "# python \n",
    "print(f'python run.py \"train\" {s1}')"
   ]
  },
  {
   "cell_type": "code",
   "execution_count": 39,
   "metadata": {},
   "outputs": [
    {
     "name": "stdout",
     "output_type": "stream",
     "text": [
      "prog/run/run.exe \"train\" eyJTVEFSVF9EQVRFIjogIjIwMjItMDUtMjUiLCAiRU5EX0RBVEUiOiAiMjAyMi0wOS0yMiIsICJJTklUX1BBVEgiOiAiRDpcXEp1bGllXFxkZXZlbG9wXFxwYXBlclxcZGF0YVxcaW5pdCIsICJUUkFJTl9MT0ciOiAiRDpcXEp1bGllXFxkZXZlbG9wXFxwYXBlclxccHJvZ1xcbG9nc1xcdHJhaW4ubG9nIiwgIk1PREVMX1BBVEgiOiAiRDpcXEp1bGllXFxkZXZlbG9wXFxwYXBlclxcZGF0YVxcbW9kZWxzXFwxNjYzODI3NTY3LjQ1NzMyOCJ9\n"
     ]
    }
   ],
   "source": [
    "# exe \n",
    "print(f'prog/run/run.exe \"train\" {s1}')"
   ]
  },
  {
   "cell_type": "code",
   "execution_count": 40,
   "metadata": {},
   "outputs": [
    {
     "name": "stdout",
     "output_type": "stream",
     "text": [
      "prog/train.bat eyJTVEFSVF9EQVRFIjogIjIwMjItMDUtMjUiLCAiRU5EX0RBVEUiOiAiMjAyMi0wOS0yMiIsICJJTklUX1BBVEgiOiAiRDpcXEp1bGllXFxkZXZlbG9wXFxwYXBlclxcZGF0YVxcaW5pdCIsICJUUkFJTl9MT0ciOiAiRDpcXEp1bGllXFxkZXZlbG9wXFxwYXBlclxccHJvZ1xcbG9nc1xcdHJhaW4ubG9nIiwgIk1PREVMX1BBVEgiOiAiRDpcXEp1bGllXFxkZXZlbG9wXFxwYXBlclxcZGF0YVxcbW9kZWxzXFwxNjYzODI3NTY3LjQ1NzMyOCJ9\n"
     ]
    }
   ],
   "source": [
    "# bat \n",
    "print(f'prog/train.bat {s1}')"
   ]
  },
  {
   "cell_type": "markdown",
   "metadata": {},
   "source": [
    "### Predict"
   ]
  },
  {
   "cell_type": "code",
   "execution_count": 45,
   "metadata": {},
   "outputs": [
    {
     "name": "stdout",
     "output_type": "stream",
     "text": [
      "eyJJTlBVVCI6ICJkOlxcSnVsaWVcXGRldmVsb3BcXHBhcGVyXFxkYXRhXFxwcmVkaWN0aW9uc1xcNjA3XFxpbnB1dC5qc29uIiwgIk1PREVMIjogImQ6XFxKdWxpZVxcZGV2ZWxvcFxccGFwZXJcXGRhdGFcXG1vZGVsc1xcMTY2MzgzMDgxNy42Mzg5MTQiLCAiT1VUUFVUIjogImQ6XFxKdWxpZVxcZGV2ZWxvcFxccGFwZXJcXGRhdGFcXHByZWRpY3Rpb25zXFw2MDdcXG91dHB1dC5qc29uIiwgIkxPRyI6ICJkOlxcSnVsaWVcXGRldmVsb3BcXHBhcGVyXFxwcm9nXFxsb2dzXFxwcmVkaWN0LmxvZyJ9\n"
     ]
    }
   ],
   "source": [
    "import os, json, base64, random\n",
    "import pandas as pd\n",
    "from datetime import datetime\n",
    "\n",
    "root = os.getcwd()\n",
    "models = os.listdir(os.path.join(root, \"data\", \"models\"))\n",
    "model_time = sorted(models)[-1]\n",
    "model_path = os.path.join(root, \"data\", \"models\", str(model_time))\n",
    "\n",
    "now = random.randint(100, 1000)\n",
    "predict_path = os.path.join(root, \"data\", \"predictions\", str(now))\n",
    "if not os.path.isdir(predict_path):\n",
    "    os.makedirs(predict_path)\n",
    "\n",
    "# input X\n",
    "\n",
    "target = \"Hourly_Production\"\n",
    "\n",
    "# 輸入參數\n",
    "df0 = pd.read_csv(os.path.join(root, \"data\", \"data.csv\"))\n",
    "features = df0.columns[5:].to_list()\n",
    "df_lower40 = df0[(df0[target] < 40)][target]\n",
    "ind = random.choice(df_lower40.index)\n",
    "output = df0.loc[ind, target]\n",
    "X0 = df0.iloc[ind: ind+1][features]\n",
    "\n",
    "# 指定不可調動的參數\n",
    "fixed_mask = [random.randint(0, 1) for i in range(27)]\n",
    "\n",
    "# 轉為實際輸入的input格式\n",
    "input_data = {X0.columns[i]: {\"init\": X0.values[0][i], \"fixed\": random.randint(0, 1)} for i in range(X0.shape[1])}\n",
    "input_data[target]= {\"init\": 30}\n",
    "\n",
    "with open(f'{predict_path}/input.json', 'w') as f:\n",
    "    json.dump(input_data, f)\n",
    "\n",
    "s = {\n",
    "    \"INPUT\": os.path.join(predict_path, \"input.json\"),\n",
    "    \"MODEL\": model_path,\n",
    "    \"OUTPUT\": os.path.join(predict_path, \"output.json\"),\n",
    "    \"LOG\": os.path.join(root, \"prog\", \"logs\", \"predict.log\"),\n",
    "}\n",
    "\n",
    "s0 = json.dumps(s)\n",
    "\n",
    "b = s0.encode(\"UTF-8\")\n",
    "e = base64.b64encode(b)\n",
    "s1 = e.decode(\"UTF-8\")\n",
    "print(s1)"
   ]
  },
  {
   "cell_type": "code",
   "execution_count": 30,
   "metadata": {},
   "outputs": [
    {
     "name": "stdout",
     "output_type": "stream",
     "text": [
      "python run.py \"predict\" eyJJTlBVVCI6ICJkOlxcSnVsaWVcXGRldmVsb3BcXHBhcGVyXFxkYXRhXFxwcmVkaWN0aW9uc1xcNjUxXFxpbnB1dC5qc29uIiwgIk1PREVMIjogImQ6XFxKdWxpZVxcZGV2ZWxvcFxccGFwZXJcXGRhdGFcXG1vZGVsc1xcMTY2MzgyNzEwNi43NDU5NzciLCAiT1VUUFVUIjogImQ6XFxKdWxpZVxcZGV2ZWxvcFxccGFwZXJcXGRhdGFcXHByZWRpY3Rpb25zXFw2NTFcXG91dHB1dC5qc29uIiwgIkxPRyI6ICJkOlxcSnVsaWVcXGRldmVsb3BcXHBhcGVyXFxwcm9nXFxsb2dzXFxwcmVkaWN0LmxvZyJ9\n"
     ]
    }
   ],
   "source": [
    "# python \n",
    "print(f'python run.py \"predict\" {s1}')"
   ]
  },
  {
   "cell_type": "code",
   "execution_count": 31,
   "metadata": {},
   "outputs": [
    {
     "name": "stdout",
     "output_type": "stream",
     "text": [
      "prog/run/run.exe \"predict\" eyJJTlBVVCI6ICJkOlxcSnVsaWVcXGRldmVsb3BcXHBhcGVyXFxkYXRhXFxwcmVkaWN0aW9uc1xcNjUxXFxpbnB1dC5qc29uIiwgIk1PREVMIjogImQ6XFxKdWxpZVxcZGV2ZWxvcFxccGFwZXJcXGRhdGFcXG1vZGVsc1xcMTY2MzgyNzEwNi43NDU5NzciLCAiT1VUUFVUIjogImQ6XFxKdWxpZVxcZGV2ZWxvcFxccGFwZXJcXGRhdGFcXHByZWRpY3Rpb25zXFw2NTFcXG91dHB1dC5qc29uIiwgIkxPRyI6ICJkOlxcSnVsaWVcXGRldmVsb3BcXHBhcGVyXFxwcm9nXFxsb2dzXFxwcmVkaWN0LmxvZyJ9\n"
     ]
    }
   ],
   "source": [
    "# exe \n",
    "print(f'prog/run/run.exe \"predict\" {s1}')"
   ]
  },
  {
   "cell_type": "code",
   "execution_count": 32,
   "metadata": {},
   "outputs": [
    {
     "name": "stdout",
     "output_type": "stream",
     "text": [
      "prog/predict.bat eyJJTlBVVCI6ICJkOlxcSnVsaWVcXGRldmVsb3BcXHBhcGVyXFxkYXRhXFxwcmVkaWN0aW9uc1xcNjUxXFxpbnB1dC5qc29uIiwgIk1PREVMIjogImQ6XFxKdWxpZVxcZGV2ZWxvcFxccGFwZXJcXGRhdGFcXG1vZGVsc1xcMTY2MzgyNzEwNi43NDU5NzciLCAiT1VUUFVUIjogImQ6XFxKdWxpZVxcZGV2ZWxvcFxccGFwZXJcXGRhdGFcXHByZWRpY3Rpb25zXFw2NTFcXG91dHB1dC5qc29uIiwgIkxPRyI6ICJkOlxcSnVsaWVcXGRldmVsb3BcXHBhcGVyXFxwcm9nXFxsb2dzXFxwcmVkaWN0LmxvZyJ9\n"
     ]
    }
   ],
   "source": [
    "# bat \n",
    "print(f\"prog/predict.bat {s1}\")"
   ]
  },
  {
   "cell_type": "code",
   "execution_count": null,
   "metadata": {},
   "outputs": [],
   "source": []
  }
 ],
 "metadata": {
  "kernelspec": {
   "display_name": "Python 3.8.10 ('.venv': venv)",
   "language": "python",
   "name": "python3"
  },
  "language_info": {
   "codemirror_mode": {
    "name": "ipython",
    "version": 3
   },
   "file_extension": ".py",
   "mimetype": "text/x-python",
   "name": "python",
   "nbconvert_exporter": "python",
   "pygments_lexer": "ipython3",
   "version": "3.8.10"
  },
  "orig_nbformat": 4,
  "vscode": {
   "interpreter": {
    "hash": "6c2898c30be5f73b03e044cf4b0ab3750666a8191d61a4c93b022a132c823988"
   }
  }
 },
 "nbformat": 4,
 "nbformat_minor": 2
}
